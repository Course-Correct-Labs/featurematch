{
 "cells": [
  {
   "cell_type": "markdown",
   "metadata": {},
   "source": [
    "# FeatureMatch Demo\n",
    "\n",
    "Minimal demonstration of cross-representation feature alignment using cosine similarity."
   ]
  },
  {
   "cell_type": "code",
   "execution_count": null,
   "metadata": {},
   "outputs": [],
   "source": [
    "import torch\n",
    "from featurematch.featurematch import align_features\n",
    "from featurematch.viz import plot_heatmap\n",
    "\n",
    "torch.manual_seed(0)\n",
    "N, K = 200, 64\n",
    "Z_a = torch.randn(N, K)\n",
    "perm = torch.randperm(K)\n",
    "P = torch.zeros(K, K); P[torch.arange(K), perm] = 1.0\n",
    "Z_b_perm = Z_a @ P  # permutation case\n",
    "Z_b_rand = torch.randn(N, K)  # random dictionary case"
   ]
  },
  {
   "cell_type": "code",
   "execution_count": null,
   "metadata": {},
   "outputs": [],
   "source": [
    "res = align_features(Z_a, Z_b_perm, topk=5, threshold=0.8, device=\"cpu\")\n",
    "print(\"Permutation case stats:\", res.stats)\n",
    "plot_heatmap(res.cosine, title=\"FeatureMatch: Cosine (Permutation)\", outpath=\"outputs/featurematch_perm.png\")\n",
    "res.top_matches[:3]"
   ]
  },
  {
   "cell_type": "code",
   "execution_count": null,
   "metadata": {},
   "outputs": [],
   "source": [
    "res2 = align_features(Z_a, Z_b_rand, topk=5, threshold=0.8, device=\"cpu\")\n",
    "print(\"Random case stats:\", res2.stats)\n",
    "plot_heatmap(res2.cosine, title=\"FeatureMatch: Cosine (Random)\", outpath=\"outputs/featurematch_random.png\")\n",
    "res2.top_matches[:3]"
   ]
  }
 ],
 "metadata": {
  "kernelspec": {
   "display_name": "Python 3",
   "language": "python",
   "name": "python3"
  },
  "language_info": {
   "codemirror_mode": {
    "name": "ipython",
    "version": 3
   },
   "file_extension": ".py",
   "mimetype": "text/x-python",
   "name": "python",
   "nbconvert_exporter": "python",
   "pygments_lexer": "ipython3",
   "version": "3.10.0"
  }
 },
 "nbformat": 4,
 "nbformat_minor": 4
}
